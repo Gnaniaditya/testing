{
 "cells": [
  {
   "cell_type": "code",
   "execution_count": 68,
   "metadata": {},
   "outputs": [
    {
     "ename": "FileNotFoundError",
     "evalue": "[Errno 2] No such file or directory: 'top.fileName'",
     "output_type": "error",
     "traceback": [
      "\u001b[1;31m---------------------------------------------------------------------------\u001b[0m",
      "\u001b[1;31mFileNotFoundError\u001b[0m                         Traceback (most recent call last)",
      "\u001b[1;32m<ipython-input-68-d8506d01cc68>\u001b[0m in \u001b[0;36m<module>\u001b[1;34m\u001b[0m\n\u001b[0;32m     48\u001b[0m \u001b[1;33m\u001b[0m\u001b[0m\n\u001b[0;32m     49\u001b[0m \u001b[1;33m\u001b[0m\u001b[0m\n\u001b[1;32m---> 50\u001b[1;33m \u001b[0mimage\u001b[0m\u001b[1;33m=\u001b[0m\u001b[0mImage\u001b[0m\u001b[1;33m.\u001b[0m\u001b[0mopen\u001b[0m\u001b[1;33m(\u001b[0m\u001b[1;34mr\"top.fileName\"\u001b[0m\u001b[1;33m)\u001b[0m\u001b[1;33m\u001b[0m\u001b[1;33m\u001b[0m\u001b[0m\n\u001b[0m\u001b[0;32m     51\u001b[0m \u001b[1;33m\u001b[0m\u001b[0m\n\u001b[0;32m     52\u001b[0m \u001b[0mphoto\u001b[0m\u001b[1;33m=\u001b[0m\u001b[0mImageTk\u001b[0m\u001b[1;33m.\u001b[0m\u001b[0mPhotoImage\u001b[0m\u001b[1;33m(\u001b[0m\u001b[0mimage\u001b[0m\u001b[1;33m)\u001b[0m\u001b[1;33m\u001b[0m\u001b[1;33m\u001b[0m\u001b[0m\n",
      "\u001b[1;32m~\\Anaconda3\\lib\\site-packages\\PIL\\Image.py\u001b[0m in \u001b[0;36mopen\u001b[1;34m(fp, mode)\u001b[0m\n\u001b[0;32m   2632\u001b[0m \u001b[1;33m\u001b[0m\u001b[0m\n\u001b[0;32m   2633\u001b[0m     \u001b[1;32mif\u001b[0m \u001b[0mfilename\u001b[0m\u001b[1;33m:\u001b[0m\u001b[1;33m\u001b[0m\u001b[1;33m\u001b[0m\u001b[0m\n\u001b[1;32m-> 2634\u001b[1;33m         \u001b[0mfp\u001b[0m \u001b[1;33m=\u001b[0m \u001b[0mbuiltins\u001b[0m\u001b[1;33m.\u001b[0m\u001b[0mopen\u001b[0m\u001b[1;33m(\u001b[0m\u001b[0mfilename\u001b[0m\u001b[1;33m,\u001b[0m \u001b[1;34m\"rb\"\u001b[0m\u001b[1;33m)\u001b[0m\u001b[1;33m\u001b[0m\u001b[1;33m\u001b[0m\u001b[0m\n\u001b[0m\u001b[0;32m   2635\u001b[0m         \u001b[0mexclusive_fp\u001b[0m \u001b[1;33m=\u001b[0m \u001b[1;32mTrue\u001b[0m\u001b[1;33m\u001b[0m\u001b[1;33m\u001b[0m\u001b[0m\n\u001b[0;32m   2636\u001b[0m \u001b[1;33m\u001b[0m\u001b[0m\n",
      "\u001b[1;31mFileNotFoundError\u001b[0m: [Errno 2] No such file or directory: 'top.fileName'"
     ]
    }
   ],
   "source": [
    "from tkinter import *                                                          \n",
    "top=Tk()\n",
    "\n",
    "top.title('Pneumonia Detection')\n",
    "\n",
    "Label(top,text=\"Enter your name:\").grid(row=0)                    \n",
    "Label(top,text=\"Age:\").grid(row=1)\n",
    "\n",
    "E1=Entry(top)\n",
    "E1.grid(row=0,column=1)\n",
    "\n",
    "\n",
    "s=Spinbox(top,from_=0,to=100)\n",
    "s.grid(row=1,column=1)\n",
    "\n",
    "\n",
    "L3=Label(top,text=\"Gender:\").grid(row=2)\n",
    "r=Radiobutton(L3,text=\"Male\",value=1).grid(row=2,column=1)\n",
    "r=Radiobutton(L3,text=\"Female\",value=0).grid(row=2,column=2)\n",
    "\n",
    "\n",
    "Label(top,text=\"Please uplaod your X-ray:\",font=\"arial\").grid(row=3,column=1)\n",
    "\n",
    "\n",
    "\n",
    "\n",
    "#For uploading the image\n",
    "\n",
    "from tkinter import filedialog\n",
    "from PIL import ImageTk,Image\n",
    "\n",
    "def getfile():\n",
    "    \n",
    "    top.fileName=filedialog.askopenfilename()\n",
    "    print(top.fileName)\n",
    "\n",
    "\n",
    "\n",
    "B1=Button(top,text=\"Browse\",width=10,command=getfile).grid(row=4,column=1)\n",
    "\n",
    "\n",
    "\n",
    "#Displaying the image\n",
    "from tkinter import *\n",
    "from tkinter import filedialog\n",
    "from PIL import ImageTk,Image\n",
    "\n",
    "\n",
    "\n",
    "image=Image.open(r\"top.fileName\")\n",
    "\n",
    "photo=ImageTk.PhotoImage(image)\n",
    "label=Label(image=photo).grid(row=5,column=1)\n",
    "\n",
    "\n",
    "\n",
    "    \n",
    "\n",
    "\n",
    "\n",
    "top.mainloop()"
   ]
  },
  {
   "cell_type": "code",
   "execution_count": null,
   "metadata": {},
   "outputs": [],
   "source": []
  },
  {
   "cell_type": "code",
   "execution_count": null,
   "metadata": {},
   "outputs": [],
   "source": []
  }
 ],
 "metadata": {
  "kernelspec": {
   "display_name": "Python 3",
   "language": "python",
   "name": "python3"
  }
 },
 "nbformat": 4,
 "nbformat_minor": 2
}
